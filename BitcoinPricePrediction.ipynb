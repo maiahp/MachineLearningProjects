{
  "nbformat": 4,
  "nbformat_minor": 0,
  "metadata": {
    "colab": {
      "name": "BitcoinPricePrediction.ipynb",
      "provenance": [],
      "collapsed_sections": []
    },
    "kernelspec": {
      "name": "python3",
      "display_name": "Python 3"
    },
    "language_info": {
      "name": "python"
    },
    "accelerator": "GPU"
  },
  "cells": [
    {
      "cell_type": "markdown",
      "metadata": {
        "id": "hdthKTwVV3jE"
      },
      "source": [
        "# Bitcoin Price Prediction \n",
        "\n",
        "Maiah Pardo<br/>\n",
        "August 20, 2021\n",
        "\n",
        "This project is an attempt at Bitcoin stock price prediction using a Recurrent neural network model. I use data gathered from https://finance.yahoo.com/quote/BTC-USD/history/ to train my neural network."
      ]
    },
    {
      "cell_type": "code",
      "metadata": {
        "id": "gMiNi2Asa9EW"
      },
      "source": [
        "%matplotlib inline"
      ],
      "execution_count": null,
      "outputs": []
    },
    {
      "cell_type": "code",
      "metadata": {
        "id": "rCyPfgqvWoYh"
      },
      "source": [
        "from pydrive.auth import GoogleAuth\n",
        "from pydrive.drive import GoogleDrive\n",
        "from google.colab import auth\n",
        "from oauth2client.client import GoogleCredentials\n",
        "import io\n",
        "import zipfile\n",
        "import pandas as pd\n",
        "import numpy as np\n",
        "auth.authenticate_user()\n",
        "gauth = GoogleAuth()\n",
        "gauth.credentials = GoogleCredentials.get_application_default()\n",
        "drive = GoogleDrive(gauth)\n",
        "file_id = '1JbrxeSqazKn-WjizVDPG9VvhkXVG--D-'\n",
        "downloaded = drive.CreateFile({'id': file_id})\n",
        "downloaded.GetContentFile('BTC-USD.csv')"
      ],
      "execution_count": null,
      "outputs": []
    },
    {
      "cell_type": "code",
      "metadata": {
        "id": "2Go0tJjWWs28"
      },
      "source": [
        "# Create pandas dataframe\n",
        "data = pd.read_csv('BTC-USD.csv')"
      ],
      "execution_count": null,
      "outputs": []
    },
    {
      "cell_type": "code",
      "metadata": {
        "id": "B4j8m8rBWwNv",
        "colab": {
          "base_uri": "https://localhost:8080/",
          "height": 204
        },
        "outputId": "189f0860-d9ee-4157-ca67-f48ed914b7d7"
      },
      "source": [
        "# Plot data.head()\n",
        "data.head()"
      ],
      "execution_count": null,
      "outputs": [
        {
          "output_type": "execute_result",
          "data": {
            "text/html": [
              "<div>\n",
              "<style scoped>\n",
              "    .dataframe tbody tr th:only-of-type {\n",
              "        vertical-align: middle;\n",
              "    }\n",
              "\n",
              "    .dataframe tbody tr th {\n",
              "        vertical-align: top;\n",
              "    }\n",
              "\n",
              "    .dataframe thead th {\n",
              "        text-align: right;\n",
              "    }\n",
              "</style>\n",
              "<table border=\"1\" class=\"dataframe\">\n",
              "  <thead>\n",
              "    <tr style=\"text-align: right;\">\n",
              "      <th></th>\n",
              "      <th>Date</th>\n",
              "      <th>Open</th>\n",
              "      <th>High</th>\n",
              "      <th>Low</th>\n",
              "      <th>Close</th>\n",
              "      <th>Adj Close</th>\n",
              "      <th>Volume</th>\n",
              "    </tr>\n",
              "  </thead>\n",
              "  <tbody>\n",
              "    <tr>\n",
              "      <th>0</th>\n",
              "      <td>2014-09-17</td>\n",
              "      <td>465.864014</td>\n",
              "      <td>468.174011</td>\n",
              "      <td>452.421997</td>\n",
              "      <td>457.334015</td>\n",
              "      <td>457.334015</td>\n",
              "      <td>21056800.0</td>\n",
              "    </tr>\n",
              "    <tr>\n",
              "      <th>1</th>\n",
              "      <td>2014-09-18</td>\n",
              "      <td>456.859985</td>\n",
              "      <td>456.859985</td>\n",
              "      <td>413.104004</td>\n",
              "      <td>424.440002</td>\n",
              "      <td>424.440002</td>\n",
              "      <td>34483200.0</td>\n",
              "    </tr>\n",
              "    <tr>\n",
              "      <th>2</th>\n",
              "      <td>2014-09-19</td>\n",
              "      <td>424.102997</td>\n",
              "      <td>427.834991</td>\n",
              "      <td>384.532013</td>\n",
              "      <td>394.795990</td>\n",
              "      <td>394.795990</td>\n",
              "      <td>37919700.0</td>\n",
              "    </tr>\n",
              "    <tr>\n",
              "      <th>3</th>\n",
              "      <td>2014-09-20</td>\n",
              "      <td>394.673004</td>\n",
              "      <td>423.295990</td>\n",
              "      <td>389.882996</td>\n",
              "      <td>408.903992</td>\n",
              "      <td>408.903992</td>\n",
              "      <td>36863600.0</td>\n",
              "    </tr>\n",
              "    <tr>\n",
              "      <th>4</th>\n",
              "      <td>2014-09-21</td>\n",
              "      <td>408.084991</td>\n",
              "      <td>412.425995</td>\n",
              "      <td>393.181000</td>\n",
              "      <td>398.821014</td>\n",
              "      <td>398.821014</td>\n",
              "      <td>26580100.0</td>\n",
              "    </tr>\n",
              "  </tbody>\n",
              "</table>\n",
              "</div>"
            ],
            "text/plain": [
              "         Date        Open        High  ...       Close   Adj Close      Volume\n",
              "0  2014-09-17  465.864014  468.174011  ...  457.334015  457.334015  21056800.0\n",
              "1  2014-09-18  456.859985  456.859985  ...  424.440002  424.440002  34483200.0\n",
              "2  2014-09-19  424.102997  427.834991  ...  394.795990  394.795990  37919700.0\n",
              "3  2014-09-20  394.673004  423.295990  ...  408.903992  408.903992  36863600.0\n",
              "4  2014-09-21  408.084991  412.425995  ...  398.821014  398.821014  26580100.0\n",
              "\n",
              "[5 rows x 7 columns]"
            ]
          },
          "metadata": {},
          "execution_count": 4
        }
      ]
    },
    {
      "cell_type": "markdown",
      "metadata": {
        "id": "UcUcf4vAW1IZ"
      },
      "source": [
        "Plotting the bitcoin price. Here, let's plot price vs days after September 15, 2014, the start date of this dataset. Day \"0\" indicates September 15, 2014."
      ]
    },
    {
      "cell_type": "code",
      "metadata": {
        "id": "mxzg-t7dXFgU",
        "colab": {
          "base_uri": "https://localhost:8080/",
          "height": 265
        },
        "outputId": "ade4d907-a6a5-482c-e31d-d5072ef91769"
      },
      "source": [
        "import matplotlib.pyplot as plt\n",
        "import seaborn as sns # Used for plotting\n",
        "\n",
        "g = sns.lineplot(x = np.linspace(1,2495,2495), y = data['High'].values.reshape(-1))\n"
      ],
      "execution_count": null,
      "outputs": [
        {
          "output_type": "display_data",
          "data": {
            "image/png": "[encoded data removed]",
            "text/plain": [
              "<Figure size 432x288 with 1 Axes>"
            ]
          },
          "metadata": {
            "needs_background": "light"
          }
        }
      ]
    },
    {
      "cell_type": "markdown",
      "metadata": {
        "id": "qmnZB1SfXOsx"
      },
      "source": [
        "Here, let's again plot bitcoin price vs. days, but with dates in place of day 0, 1, 2, etc."
      ]
    },
    {
      "cell_type": "code",
      "metadata": {
        "id": "Cd8L2MqHXPMT",
        "colab": {
          "base_uri": "https://localhost:8080/",
          "height": 514
        },
        "outputId": "3588141f-5e8e-4aa3-d717-b1f235cd4391"
      },
      "source": [
        "import matplotlib.pyplot as plt\n",
        "import seaborn as sns # Used for plotting\n",
        "\n",
        "g = sns.lineplot(x = np.linspace(1,2495,2495), y = data['High'].values.reshape(-1))\n",
        "#g.map(plt.plot, \"a\", \"v\", marker=\"o\")\n",
        "g.set(xticks=np.arange(0,2500,200))\n",
        "g.set_xticklabels(rotation=30, labels = data['Date'][0::200])"
      ],
      "execution_count": null,
      "outputs": [
        {
          "output_type": "execute_result",
          "data": {
            "text/plain": [
              "[Text(0, 0, '2014-09-17'),\n",
              " Text(0, 0, '2015-04-05'),\n",
              " Text(0, 0, '2015-10-22'),\n",
              " Text(0, 0, '2016-05-09'),\n",
              " Text(0, 0, '2016-11-25'),\n",
              " Text(0, 0, '2017-06-13'),\n",
              " Text(0, 0, '2017-12-30'),\n",
              " Text(0, 0, '2018-07-18'),\n",
              " Text(0, 0, '2019-02-03'),\n",
              " Text(0, 0, '2019-08-22'),\n",
              " Text(0, 0, '2020-03-09'),\n",
              " Text(0, 0, '2020-09-25'),\n",
              " Text(0, 0, '2021-04-13')]"
            ]
          },
          "metadata": {},
          "execution_count": 6
        },
        {
          "output_type": "display_data",
          "data": {
            "image/png": "[encoded data removed]",
            "text/plain": [
              "<Figure size 432x288 with 1 Axes>"
            ]
          },
          "metadata": {
            "needs_background": "light"
          }
        }
      ]
    },
    {
      "cell_type": "markdown",
      "metadata": {
        "id": "-q3y3oWoXoM1"
      },
      "source": [
        "Let's preprocess the data in order to train a recurrent neural network. There 5 columns: \"Date\", \"Open\", \"High\", \"Low\", \"Close\", \"Adjusted Close\", and \"Volume\". I will only use the High column data."
      ]
    },
    {
      "cell_type": "code",
      "metadata": {
        "id": "8PtqdILBX5IF",
        "colab": {
          "base_uri": "https://localhost:8080/"
        },
        "outputId": "98b87f53-3c04-4018-f434-00a66ed7a740"
      },
      "source": [
        "# removing nan's from the data base\n",
        "\n",
        "# determine if any values are null (nan)\n",
        "print(\"Are there nan's in data:\", data.isnull().values.any())\n",
        "\n",
        "# how many values are null\n",
        "#print(data.isnull().sum())\n",
        "\n",
        "# remove all nan rows\n",
        "data = data.dropna()\n",
        "\n",
        "# check all nans are gone\n",
        "print(\"Are there nan's in data:\", data.isnull().values.any())\n",
        "\n",
        "# Create a dataframe that only contains High Column.\n",
        "# Hint: it may be helpful to now cast your pruned dataframe to a numpy array.\n",
        "\n",
        "data_high = np.array(data['High'])\n",
        "#print(list(data_high))\n"
      ],
      "execution_count": null,
      "outputs": [
        {
          "output_type": "stream",
          "text": [
            "Are there nan's in data: True\n",
            "Are there nan's in data: False\n"
          ],
          "name": "stdout"
        }
      ]
    },
    {
      "cell_type": "markdown",
      "metadata": {
        "id": "GXHpLFbCX9SS"
      },
      "source": [
        "Here I use [MinMaxScaler](https://scikit-learn.org/stable/modules/generated/sklearn.preprocessing.MinMaxScaler.html) from sklearn to scale the data for the analysis. "
      ]
    },
    {
      "cell_type": "code",
      "metadata": {
        "id": "KMjvPDggYBHX"
      },
      "source": [
        "from sklearn.preprocessing import MinMaxScaler\n",
        "\n",
        "# scale data_high to a number between 0 and 1 \n",
        "# the data has a single feature (column) so we must reshape our data to use minmaxscaler\n",
        "data_high = data_high.reshape(-1, 1)\n",
        "\n",
        "# create the scaler\n",
        "scaler = MinMaxScaler() \n",
        "\n",
        "# normalize the data using the scaler\n",
        "data_normalized = scaler.fit_transform(data_high) \n",
        "\n",
        "#print(data_normalized)\n",
        "#data_normalized"
      ],
      "execution_count": null,
      "outputs": []
    },
    {
      "cell_type": "markdown",
      "metadata": {
        "id": "Kpb3ux8PYLde"
      },
      "source": [
        "Let's implement a simple autoregressive recurrent neural network using the standard tensorflow RNN architectures. An autoregressive model originates from the literature on time-series models where observations from the previous time-steps are used to predict the value at the current time step. To implemement an autoregressive model, we will simply augment the data so that \"time_steps\" number of previous days are fed to the model at the current time step in order to form a prediction. "
      ]
    },
    {
      "cell_type": "code",
      "metadata": {
        "id": "7R_A47L4YgSj"
      },
      "source": [
        "\n",
        "def create_dataset(dataset, time_steps=1):\n",
        "    \"\"\"\n",
        "    Generate a dataset where the time series X[n] contains the readings for the 'time_step' previous days \n",
        "    and y contains the price for today.\n",
        "    args:\n",
        "    dataset: numpy array, the data\n",
        "    time_steps: the number of previous days to feed to RNN\n",
        "\n",
        "    returns:\n",
        "    tuple: a dataset with x[i] containing 'time_step' number of previous prices, target price for x[i]\n",
        "    \"\"\"\n",
        "    dataX, dataY = [],[]\n",
        "    for i in range(len(dataset)-time_steps-1):\n",
        "        a = dataset[i:(i+time_steps)]\n",
        "        dataX.append(a)\n",
        "        dataY.append(dataset[i + time_steps])\n",
        "    return np.array(dataX), np.array(dataY)"
      ],
      "execution_count": null,
      "outputs": []
    },
    {
      "cell_type": "code",
      "metadata": {
        "id": "ijw7eVpKYjUL",
        "colab": {
          "base_uri": "https://localhost:8080/",
          "height": 52
        },
        "outputId": "26c818ef-5dfe-4ad4-ce6e-825470c30df9"
      },
      "source": [
        "# Choose the number of time steps that the model \"looks back\"\n",
        "look_back_days = 50 \n",
        "\n",
        "# Produce the dataset based on the number of days the model will look back\n",
        "X, y = create_dataset(data_normalized, look_back_days)\n",
        "\n",
        "'''\n",
        "print(\"X is:\", X) # X contains 50 values for 50 time steps\n",
        "print(\"y is:\", y) # y contains the last value of every inner X element\n",
        "\n",
        "print(\"X shape is:\", X.shape)\n",
        "print(\"y shape is:\", y.shape)\n",
        "'''"
      ],
      "execution_count": null,
      "outputs": [
        {
          "output_type": "execute_result",
          "data": {
            "application/vnd.google.colaboratory.intrinsic+json": {
              "type": "string"
            },
            "text/plain": [
              "'\\nprint(\"X is:\", X) # X contains 50 values for 50 time steps\\nprint(\"y is:\", y) # y contains the last value of every inner X element\\n\\nprint(\"X shape is:\", X.shape)\\nprint(\"y shape is:\", y.shape)\\n'"
            ]
          },
          "metadata": {},
          "execution_count": 10
        }
      ]
    },
    {
      "cell_type": "code",
      "metadata": {
        "id": "1ttGjZKwYn5p",
        "colab": {
          "base_uri": "https://localhost:8080/"
        },
        "outputId": "41e4ba23-07a0-41d6-fd87-2d76de63d625"
      },
      "source": [
        "# Checking the shape of the dataset\n",
        "print(X.shape, y.shape)"
      ],
      "execution_count": null,
      "outputs": [
        {
          "output_type": "stream",
          "text": [
            "(2440, 50, 1) (2440, 1)\n"
          ],
          "name": "stdout"
        }
      ]
    },
    {
      "cell_type": "markdown",
      "metadata": {
        "id": "OAC4WDG-Yusc"
      },
      "source": [
        "Splitting the data into train and test sets. Using 80% for training and 20% for testing. Note: The data must be split in time (the begining 80% of the days from start date will be the training data and the remaining 20% will be test data)."
      ]
    },
    {
      "cell_type": "code",
      "metadata": {
        "id": "d7LEciQMY58M",
        "colab": {
          "base_uri": "https://localhost:8080/"
        },
        "outputId": "ad8e34ec-0f33-4e1f-cfe9-f6126ed44049"
      },
      "source": [
        "num_train_data = np.round(.80 * X.shape[0])  # need beginning 80% of data for training\n",
        "num_test_data = X.shape[0] - num_train_data  # need last 20% of data for testing\n",
        "\n",
        "print(\"Number of training data points:\", num_train_data)\n",
        "print(\"Number of test data points:\", num_test_data)\n",
        "\n",
        "\n",
        "X_train = []\n",
        "y_train = [] \n",
        "X_test = []\n",
        "y_test = []\n",
        "\n",
        "for i in range(X.shape[0]):\n",
        "  if i < int(num_train_data):\n",
        "    X_train.append(list(X[i]))\n",
        "    y_train.append(list(y[i]))\n",
        "  else:\n",
        "    X_test.append(list(X[i]))\n",
        "    y_test.append(list(y[i]))\n",
        "\n",
        "\n",
        "y_train = np.array(y_train) # save as numpy array\n",
        "X_train = np.array(X_train)\n",
        "y_test = np.array(y_test) \n",
        "X_test = np.array(X_test)"
      ],
      "execution_count": null,
      "outputs": [
        {
          "output_type": "stream",
          "text": [
            "Number of training data points: 1952.0\n",
            "Number of test data points: 488.0\n"
          ],
          "name": "stdout"
        }
      ]
    },
    {
      "cell_type": "markdown",
      "metadata": {
        "id": "6U_47-RhZBOS"
      },
      "source": [
        "Data partitions must be reshaped for the model."
      ]
    },
    {
      "cell_type": "code",
      "metadata": {
        "id": "rmFEEp0tZBrG"
      },
      "source": [
        "# Reshape input to be [samples, time steps, features].\n",
        "X_train = np.reshape(X_train, (X_train.shape[0], 1, X_train.shape[1]))\n",
        "X_test = np.reshape(X_test, (X_test.shape[0], 1, X_test.shape[1]))\n",
        "\n",
        "#print(X_train.shape)\n",
        "#print(X_test.shape)"
      ],
      "execution_count": null,
      "outputs": []
    },
    {
      "cell_type": "markdown",
      "metadata": {
        "id": "0s_SmocsZL9I"
      },
      "source": [
        "In this part I create a model using an RNN layer (LSTM or GRU, unidirectional or bidirectional) and train it on the training data. I use mean squared error as my model's metric. I then plot training and validation loss."
      ]
    },
    {
      "cell_type": "code",
      "metadata": {
        "id": "rfsK6gQcZLmZ",
        "colab": {
          "base_uri": "https://localhost:8080/"
        },
        "outputId": "9ebb6f93-d6fc-4e9c-a9b5-92dae0383e2a"
      },
      "source": [
        "from tensorflow.keras import Model\n",
        "from tensorflow.keras.layers import Embedding, Dense, Dropout, Input, LSTM\n",
        "import tensorflow as tf\n",
        "\n",
        "# Build model\n",
        "\n",
        "input_layer = Input(shape=(1, look_back_days))\n",
        "\n",
        "x = LSTM(units=10, activation='relu')(input_layer) # 1-20 units\n",
        "x = Dense(1, activation='linear')(x) \n",
        "\n",
        "model = Model(input_layer, x)\n",
        "model.summary()\n",
        "\n",
        "loss = 'mean_squared_error' \n",
        "opt = 'adam'\n",
        "metrics = 'mse' # illustrates how models prediction are close to actual labels\n",
        "\n",
        "model.compile(loss=loss,\n",
        "              optimizer=opt,\n",
        "              metrics=[metrics])"
      ],
      "execution_count": null,
      "outputs": [
        {
          "output_type": "stream",
          "text": [
            "WARNING:tensorflow:Layer lstm will not use cuDNN kernels since it doesn't meet the criteria. It will use a generic GPU kernel as fallback when running on GPU.\n",
            "Model: \"model\"\n",
            "_________________________________________________________________\n",
            "Layer (type)                 Output Shape              Param #   \n",
            "=================================================================\n",
            "input_1 (InputLayer)         [(None, 1, 50)]           0         \n",
            "_________________________________________________________________\n",
            "lstm (LSTM)                  (None, 10)                2440      \n",
            "_________________________________________________________________\n",
            "dense (Dense)                (None, 1)                 11        \n",
            "=================================================================\n",
            "Total params: 2,451\n",
            "Trainable params: 2,451\n",
            "Non-trainable params: 0\n",
            "_________________________________________________________________\n"
          ],
          "name": "stdout"
        }
      ]
    },
    {
      "cell_type": "code",
      "metadata": {
        "id": "F8m7HwQmZgyA",
        "colab": {
          "base_uri": "https://localhost:8080/"
        },
        "outputId": "a4f61f07-270e-4a77-f99d-f6fc219a1a22"
      },
      "source": [
        "batchsize = 256 \n",
        "epochs =  50 \n",
        "\n",
        "# Fit model\n",
        "history = model.fit(X_train, y_train, batch_size=batchsize, epochs=epochs, validation_split=0.2, shuffle=False)\n"
      ],
      "execution_count": null,
      "outputs": [
        {
          "output_type": "stream",
          "text": [
            "Epoch 1/50\n",
            "7/7 [==============================] - 4s 39ms/step - loss: 0.0025 - mse: 0.0025 - val_loss: 0.0061 - val_mse: 0.0061\n",
            "Epoch 2/50\n",
            "7/7 [==============================] - 0s 7ms/step - loss: 0.0015 - mse: 0.0015 - val_loss: 0.0035 - val_mse: 0.0035\n",
            "Epoch 3/50\n",
            "7/7 [==============================] - 0s 8ms/step - loss: 9.5624e-04 - mse: 9.5624e-04 - val_loss: 0.0018 - val_mse: 0.0018\n",
            "Epoch 4/50\n",
            "7/7 [==============================] - 0s 7ms/step - loss: 6.9369e-04 - mse: 6.9369e-04 - val_loss: 9.1418e-04 - val_mse: 9.1418e-04\n",
            "Epoch 5/50\n",
            "7/7 [==============================] - 0s 8ms/step - loss: 6.1012e-04 - mse: 6.1012e-04 - val_loss: 5.6109e-04 - val_mse: 5.6109e-04\n",
            "Epoch 6/50\n",
            "7/7 [==============================] - 0s 8ms/step - loss: 5.6464e-04 - mse: 5.6464e-04 - val_loss: 4.4918e-04 - val_mse: 4.4918e-04\n",
            "Epoch 7/50\n",
            "7/7 [==============================] - 0s 7ms/step - loss: 5.0800e-04 - mse: 5.0800e-04 - val_loss: 4.3592e-04 - val_mse: 4.3592e-04\n",
            "Epoch 8/50\n",
            "7/7 [==============================] - 0s 7ms/step - loss: 4.5377e-04 - mse: 4.5377e-04 - val_loss: 4.5208e-04 - val_mse: 4.5208e-04\n",
            "Epoch 9/50\n",
            "7/7 [==============================] - 0s 7ms/step - loss: 4.0977e-04 - mse: 4.0977e-04 - val_loss: 4.6207e-04 - val_mse: 4.6207e-04\n",
            "Epoch 10/50\n",
            "7/7 [==============================] - 0s 7ms/step - loss: 3.7564e-04 - mse: 3.7564e-04 - val_loss: 4.4708e-04 - val_mse: 4.4708e-04\n",
            "Epoch 11/50\n",
            "7/7 [==============================] - 0s 7ms/step - loss: 3.4833e-04 - mse: 3.4833e-04 - val_loss: 4.1218e-04 - val_mse: 4.1218e-04\n",
            "Epoch 12/50\n",
            "7/7 [==============================] - 0s 7ms/step - loss: 3.2605e-04 - mse: 3.2605e-04 - val_loss: 3.7362e-04 - val_mse: 3.7362e-04\n",
            "Epoch 13/50\n",
            "7/7 [==============================] - 0s 7ms/step - loss: 3.0783e-04 - mse: 3.0783e-04 - val_loss: 3.4142e-04 - val_mse: 3.4142e-04\n",
            "Epoch 14/50\n",
            "7/7 [==============================] - 0s 7ms/step - loss: 2.9221e-04 - mse: 2.9221e-04 - val_loss: 3.1841e-04 - val_mse: 3.1841e-04\n",
            "Epoch 15/50\n",
            "7/7 [==============================] - 0s 7ms/step - loss: 2.7812e-04 - mse: 2.7812e-04 - val_loss: 3.0285e-04 - val_mse: 3.0285e-04\n",
            "Epoch 16/50\n",
            "7/7 [==============================] - 0s 7ms/step - loss: 2.6553e-04 - mse: 2.6553e-04 - val_loss: 2.9163e-04 - val_mse: 2.9163e-04\n",
            "Epoch 17/50\n",
            "7/7 [==============================] - 0s 7ms/step - loss: 2.5451e-04 - mse: 2.5451e-04 - val_loss: 2.8138e-04 - val_mse: 2.8138e-04\n",
            "Epoch 18/50\n",
            "7/7 [==============================] - 0s 7ms/step - loss: 2.4441e-04 - mse: 2.4441e-04 - val_loss: 2.7141e-04 - val_mse: 2.7141e-04\n",
            "Epoch 19/50\n",
            "7/7 [==============================] - 0s 8ms/step - loss: 2.3504e-04 - mse: 2.3504e-04 - val_loss: 2.6195e-04 - val_mse: 2.6195e-04\n",
            "Epoch 20/50\n",
            "7/7 [==============================] - 0s 7ms/step - loss: 2.2633e-04 - mse: 2.2633e-04 - val_loss: 2.5312e-04 - val_mse: 2.5312e-04\n",
            "Epoch 21/50\n",
            "7/7 [==============================] - 0s 7ms/step - loss: 2.1792e-04 - mse: 2.1792e-04 - val_loss: 2.4500e-04 - val_mse: 2.4500e-04\n",
            "Epoch 22/50\n",
            "7/7 [==============================] - 0s 7ms/step - loss: 2.0998e-04 - mse: 2.0998e-04 - val_loss: 2.3739e-04 - val_mse: 2.3739e-04\n",
            "Epoch 23/50\n",
            "7/7 [==============================] - 0s 7ms/step - loss: 2.0252e-04 - mse: 2.0252e-04 - val_loss: 2.3008e-04 - val_mse: 2.3008e-04\n",
            "Epoch 24/50\n",
            "7/7 [==============================] - 0s 7ms/step - loss: 1.9555e-04 - mse: 1.9555e-04 - val_loss: 2.2290e-04 - val_mse: 2.2290e-04\n",
            "Epoch 25/50\n",
            "7/7 [==============================] - 0s 8ms/step - loss: 1.8904e-04 - mse: 1.8904e-04 - val_loss: 2.1605e-04 - val_mse: 2.1605e-04\n",
            "Epoch 26/50\n",
            "7/7 [==============================] - 0s 7ms/step - loss: 1.8289e-04 - mse: 1.8289e-04 - val_loss: 2.0956e-04 - val_mse: 2.0956e-04\n",
            "Epoch 27/50\n",
            "7/7 [==============================] - 0s 7ms/step - loss: 1.7716e-04 - mse: 1.7716e-04 - val_loss: 2.0308e-04 - val_mse: 2.0308e-04\n",
            "Epoch 28/50\n",
            "7/7 [==============================] - 0s 9ms/step - loss: 1.7179e-04 - mse: 1.7179e-04 - val_loss: 1.9713e-04 - val_mse: 1.9713e-04\n",
            "Epoch 29/50\n",
            "7/7 [==============================] - 0s 7ms/step - loss: 1.6679e-04 - mse: 1.6679e-04 - val_loss: 1.9184e-04 - val_mse: 1.9184e-04\n",
            "Epoch 30/50\n",
            "7/7 [==============================] - 0s 8ms/step - loss: 1.6205e-04 - mse: 1.6205e-04 - val_loss: 1.8703e-04 - val_mse: 1.8703e-04\n",
            "Epoch 31/50\n",
            "7/7 [==============================] - 0s 7ms/step - loss: 1.5760e-04 - mse: 1.5760e-04 - val_loss: 1.8240e-04 - val_mse: 1.8240e-04\n",
            "Epoch 32/50\n",
            "7/7 [==============================] - 0s 7ms/step - loss: 1.5334e-04 - mse: 1.5334e-04 - val_loss: 1.7798e-04 - val_mse: 1.7798e-04\n",
            "Epoch 33/50\n",
            "7/7 [==============================] - 0s 7ms/step - loss: 1.4934e-04 - mse: 1.4934e-04 - val_loss: 1.7483e-04 - val_mse: 1.7483e-04\n",
            "Epoch 34/50\n",
            "7/7 [==============================] - 0s 7ms/step - loss: 1.4560e-04 - mse: 1.4560e-04 - val_loss: 1.7156e-04 - val_mse: 1.7156e-04\n",
            "Epoch 35/50\n",
            "7/7 [==============================] - 0s 7ms/step - loss: 1.4200e-04 - mse: 1.4200e-04 - val_loss: 1.6733e-04 - val_mse: 1.6733e-04\n",
            "Epoch 36/50\n",
            "7/7 [==============================] - 0s 7ms/step - loss: 1.3861e-04 - mse: 1.3861e-04 - val_loss: 1.6377e-04 - val_mse: 1.6377e-04\n",
            "Epoch 37/50\n",
            "7/7 [==============================] - 0s 7ms/step - loss: 1.3543e-04 - mse: 1.3543e-04 - val_loss: 1.6102e-04 - val_mse: 1.6102e-04\n",
            "Epoch 38/50\n",
            "7/7 [==============================] - 0s 8ms/step - loss: 1.3242e-04 - mse: 1.3242e-04 - val_loss: 1.5822e-04 - val_mse: 1.5822e-04\n",
            "Epoch 39/50\n",
            "7/7 [==============================] - 0s 7ms/step - loss: 1.2956e-04 - mse: 1.2956e-04 - val_loss: 1.5526e-04 - val_mse: 1.5526e-04\n",
            "Epoch 40/50\n",
            "7/7 [==============================] - 0s 7ms/step - loss: 1.2685e-04 - mse: 1.2685e-04 - val_loss: 1.5272e-04 - val_mse: 1.5272e-04\n",
            "Epoch 41/50\n",
            "7/7 [==============================] - 0s 7ms/step - loss: 1.2429e-04 - mse: 1.2429e-04 - val_loss: 1.5047e-04 - val_mse: 1.5047e-04\n",
            "Epoch 42/50\n",
            "7/7 [==============================] - 0s 7ms/step - loss: 1.2185e-04 - mse: 1.2185e-04 - val_loss: 1.4827e-04 - val_mse: 1.4827e-04\n",
            "Epoch 43/50\n",
            "7/7 [==============================] - 0s 7ms/step - loss: 1.1952e-04 - mse: 1.1952e-04 - val_loss: 1.4610e-04 - val_mse: 1.4610e-04\n",
            "Epoch 44/50\n",
            "7/7 [==============================] - 0s 7ms/step - loss: 1.1730e-04 - mse: 1.1730e-04 - val_loss: 1.4377e-04 - val_mse: 1.4377e-04\n",
            "Epoch 45/50\n",
            "7/7 [==============================] - 0s 7ms/step - loss: 1.1518e-04 - mse: 1.1518e-04 - val_loss: 1.4151e-04 - val_mse: 1.4151e-04\n",
            "Epoch 46/50\n",
            "7/7 [==============================] - 0s 7ms/step - loss: 1.1319e-04 - mse: 1.1319e-04 - val_loss: 1.3945e-04 - val_mse: 1.3945e-04\n",
            "Epoch 47/50\n",
            "7/7 [==============================] - 0s 7ms/step - loss: 1.1130e-04 - mse: 1.1130e-04 - val_loss: 1.3738e-04 - val_mse: 1.3738e-04\n",
            "Epoch 48/50\n",
            "7/7 [==============================] - 0s 7ms/step - loss: 1.0951e-04 - mse: 1.0951e-04 - val_loss: 1.3565e-04 - val_mse: 1.3565e-04\n",
            "Epoch 49/50\n",
            "7/7 [==============================] - 0s 7ms/step - loss: 1.0782e-04 - mse: 1.0782e-04 - val_loss: 1.3423e-04 - val_mse: 1.3423e-04\n",
            "Epoch 50/50\n",
            "7/7 [==============================] - 0s 7ms/step - loss: 1.0619e-04 - mse: 1.0619e-04 - val_loss: 1.3279e-04 - val_mse: 1.3279e-04\n"
          ],
          "name": "stdout"
        }
      ]
    },
    {
      "cell_type": "code",
      "metadata": {
        "id": "WNYmqPAyZjkn",
        "colab": {
          "base_uri": "https://localhost:8080/",
          "height": 295
        },
        "outputId": "d8f4c213-7138-44e0-ac44-bdf1b180deb8"
      },
      "source": [
        "# Plot the Model loss\n",
        "\n",
        "plt.plot(history.history['loss'])\n",
        "plt.plot(history.history['val_loss'])\n",
        "plt.title('Model Loss')\n",
        "plt.ylabel('Loss')\n",
        "plt.xlabel('Epochs')\n",
        "plt.legend(['train', 'test'])\n",
        "plt.show()"
      ],
      "execution_count": null,
      "outputs": [
        {
          "output_type": "display_data",
          "data": {
            "image/png": "[encoded data removed]",
            "text/plain": [
              "<Figure size 432x288 with 1 Axes>"
            ]
          },
          "metadata": {
            "needs_background": "light"
          }
        }
      ]
    },
    {
      "cell_type": "markdown",
      "metadata": {
        "id": "8HsGmwDibpxc"
      },
      "source": [
        "# Looking at the Predictions\n",
        "Now I will show my model's performance on the test set by plotting the model's prediction for Bitcoin Price along with the actual test set prices. "
      ]
    },
    {
      "cell_type": "code",
      "metadata": {
        "id": "4oIVAk5JcCVM",
        "colab": {
          "base_uri": "https://localhost:8080/",
          "height": 513
        },
        "outputId": "40e91940-7856-43c5-b725-05b27d881748"
      },
      "source": [
        "import matplotlib.pyplot as plt\n",
        "import seaborn as sns # Used for plotting\n",
        "\n",
        "\n",
        "denormalized_y_test = scaler.inverse_transform(y_test) # denormalize the actual y values\n",
        "#print(denormalized_y)\n",
        "y_pred = model.predict(X_test)\n",
        "\n",
        "denormalized_y_pred = scaler.inverse_transform(y_pred)\n",
        "#print(denormalized_y_pred)\n",
        "\n",
        "\n",
        "# Plot Model 1\n",
        "\n",
        "plt.figure(figsize=(20,8))\n",
        "plt.plot(denormalized_y_test, color = 'blue', label = 'True Price')\n",
        "plt.plot(denormalized_y_pred, color = 'red', label = 'Predicted Price')\n",
        "plt.title('Bitcoin Price Prediction Graph for Model 1 (Part 1c RNN Model)')\n",
        "plt.xlabel('Time')\n",
        "plt.ylabel('Price')\n",
        "plt.legend()\n",
        "plt.show()\n",
        "\n",
        "\n",
        "print(\"\\n\\n\\n\")\n"
      ],
      "execution_count": null,
      "outputs": [
        {
          "output_type": "display_data",
          "data": {
            "image/png": "[encoded data removed]",
            "text/plain": [
              "<Figure size 1440x576 with 1 Axes>"
            ]
          },
          "metadata": {
            "needs_background": "light"
          }
        }
      ]
    },
    {
      "cell_type": "markdown",
      "metadata": {
        "id": "j_PU3XfNcJop"
      },
      "source": [
        "Some analysis:<br/>\n",
        "\n",
        "The Model seems to provide a good fit to the true data points. When I changed look back days in small increments (from 50 to 60, for example), there was not a huge obvious difference in the performance based on predictions. If I changed the look back days to much larger or much smaller numbers (150 or 5, for example), the model did not seem to predict prices as well."
      ]
    }
  ]
}